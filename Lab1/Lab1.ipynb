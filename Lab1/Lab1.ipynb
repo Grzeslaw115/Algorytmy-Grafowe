{
 "cells": [
  {
   "cell_type": "markdown",
   "metadata": {},
   "source": [
    "Importy potrzebnych bibliotek i funkcji"
   ]
  },
  {
   "cell_type": "code",
   "execution_count": 61,
   "metadata": {},
   "outputs": [],
   "source": [
    "from dimacs import *\n",
    "from math import ceil\n",
    "from queue import deque, PriorityQueue\n",
    "import time\n",
    "import os"
   ]
  },
  {
   "cell_type": "markdown",
   "metadata": {},
   "source": [
    "Sprawdzarka"
   ]
  },
  {
   "cell_type": "code",
   "execution_count": 62,
   "metadata": {},
   "outputs": [],
   "source": [
    "def readSolution(graph):\n",
    "    with open(graph, \"r\") as f:\n",
    "        first_line = f.readline()\n",
    "    return int(first_line.split(\"=\")[1])\n",
    "\n",
    "def compareResults(file_path, graph_name, method, wrong, show_results=False):\n",
    "    file_solution = readSolution(file_path)\n",
    "    algorithm_solution = method(file_path)\n",
    "    \n",
    "    if show_results:\n",
    "        print(f\"Graph: {graph_name}\")\n",
    "        print(f\"File solution: {file_solution}\")\n",
    "        print(f\"Algorithm solution: {algorithm_solution}\")\n",
    "        if file_solution == algorithm_solution:\n",
    "            print(\"Results match.\")\n",
    "        else:\n",
    "            print(\"Results do not match.\")\n",
    "\n",
    "    return file_solution == algorithm_solution\n",
    "\n",
    "def testAllGraphs(directory_path, method, show_results=False):\n",
    "    all_passed = True\n",
    "    wrong = []\n",
    "    for filename in os.listdir(directory_path):\n",
    "        file_path = os.path.join(directory_path, filename)\n",
    "        if os.path.isfile(file_path):\n",
    "            if not compareResults(file_path, filename, method, wrong, show_results):\n",
    "                all_passed = False\n",
    "                wrong.append((filename, readSolution(file_path), method(file_path)))\n",
    "\n",
    "    if all_passed:\n",
    "        print(\"All tests passed.\")     \n",
    "    else:\n",
    "        print(\"Failed tests:\")\n",
    "        for graph, file_solution, algorithm_solution in wrong:\n",
    "            print(f\"Graph: {graph}\")\n",
    "            print(f\"File solution: {file_solution}\")\n",
    "            print(f\"Algorithm solution: {algorithm_solution}\")\n",
    "            print()"
   ]
  },
  {
   "cell_type": "markdown",
   "metadata": {},
   "source": [
    "Dany jest graf nieskierowany G = (V,E), funkcja c: E -> N dająca wagi krawędziom, oraz wyróżnione wierzchołki s i t.\n",
    "Szukamy scieżki z s do t takiej, że najmniejsza waga krawędzi na tej ścieżce jest jak największa.\n",
    "Należy zwrócić najmniejszą wagę krawędzi na znalezionej ścieżce."
   ]
  },
  {
   "cell_type": "markdown",
   "metadata": {},
   "source": [
    "1. Wykorzystanie struktury find-union"
   ]
  },
  {
   "cell_type": "code",
   "execution_count": 63,
   "metadata": {},
   "outputs": [],
   "source": [
    "class Node:\n",
    "    def __init__(self, value):\n",
    "        self.parent = self\n",
    "        self.rank = 0\n",
    "        self.value = value\n",
    "\n",
    "    def find_set(self):\n",
    "        if self.parent != self:\n",
    "            self.parent = self.parent.find_set()\n",
    "        return self.parent\n",
    "\n",
    "    def union(self, other):\n",
    "        root_self = self.find_set()\n",
    "        root_other = other.find_set()\n",
    "\n",
    "        if root_self != root_other:\n",
    "            if root_self.rank > root_other.rank:\n",
    "                root_other.parent = root_self\n",
    "            else:\n",
    "                root_self.parent = root_other\n",
    "                if root_self.rank == root_other.rank:\n",
    "                    root_other.rank += 1\n",
    "\n",
    "\n",
    "def find_union_max_min(graph):\n",
    "    V, L = loadWeightedGraph(graph)\n",
    "    nodes = [Node(i) for i in range(V)] \n",
    "    L.sort(key=lambda x: x[2], reverse=True)\n",
    "\n",
    "    for edge in L:\n",
    "        x = nodes[edge[0]-1]\n",
    "        y = nodes[edge[1]-1]\n",
    "        \n",
    "        if x.find_set() != y.find_set():\n",
    "            x.union(y)\n",
    "        if nodes[0].find_set() == nodes[1].find_set():\n",
    "            return edge[2]"
   ]
  },
  {
   "cell_type": "code",
   "execution_count": 64,
   "metadata": {},
   "outputs": [
    {
     "name": "stdout",
     "output_type": "stream",
     "text": [
      "All tests passed.\n"
     ]
    }
   ],
   "source": [
    "testAllGraphs(\"graphs\", find_union_max_min)"
   ]
  },
  {
   "cell_type": "markdown",
   "metadata": {},
   "source": [
    "2. Wyszukiwanie binarne + przegląd grafu metodami BFS/DFS"
   ]
  },
  {
   "cell_type": "code",
   "execution_count": 65,
   "metadata": {},
   "outputs": [],
   "source": [
    "def binary_search_max_min(graph):\n",
    "\n",
    "    def convert_graph(V, L):\n",
    "        G = [set() for _ in range(V)]\n",
    "        for u, v, c in L: \n",
    "            u -= 1\n",
    "            v -= 1\n",
    "            G[u].add((v, c))\n",
    "            G[v].add((u, c)) \n",
    "        return G \n",
    "\n",
    "    def has_path_with_min_weight(G, min_weight):\n",
    "        n = len(G)\n",
    "        visited = [False] * n\n",
    "        visited[0] = True\n",
    "        queue = deque()\n",
    "        queue.append(0)\n",
    "        while queue:\n",
    "            vertex = queue.popleft()\n",
    "            for to_go, weight in G[vertex]:\n",
    "                if weight >= min_weight and not visited[to_go]: #tak obsluguje nieprzekraczanie min_weight\n",
    "                    if to_go == 1:\n",
    "                        return True\n",
    "                    queue.append(to_go)\n",
    "                    visited[to_go] = True\n",
    "        return False\n",
    "\n",
    "    V, L = loadWeightedGraph(graph)\n",
    "\n",
    "    max_weight = -float('inf')\n",
    "    min_weight = float('inf')\n",
    "    for edge in L:\n",
    "        max_weight = max(max_weight, edge[2])\n",
    "        min_weight = min(min_weight, edge[2])\n",
    "\n",
    "    graph = convert_graph(V, L)\n",
    "    left = min_weight\n",
    "    right = max_weight\n",
    "\n",
    "    while right - left > 1:\n",
    "        mid = (left + right) / 2\n",
    "        if has_path_with_min_weight(graph, mid):\n",
    "            left = mid\n",
    "        else:\n",
    "            right = mid\n",
    "    \n",
    "    return ceil(left)"
   ]
  },
  {
   "cell_type": "code",
   "execution_count": 66,
   "metadata": {},
   "outputs": [
    {
     "name": "stdout",
     "output_type": "stream",
     "text": [
      "All tests passed.\n"
     ]
    }
   ],
   "source": [
    "testAllGraphs(\"graphs\", binary_search_max_min)"
   ]
  },
  {
   "cell_type": "markdown",
   "metadata": {},
   "source": [
    "3. Algorytm a’la Dijkstra"
   ]
  },
  {
   "cell_type": "code",
   "execution_count": 67,
   "metadata": {},
   "outputs": [],
   "source": [
    "def dijkstra_max_min(graph):\n",
    "\n",
    "    def convert_graph(V, L):\n",
    "        G = [set() for _ in range(V)]\n",
    "        for u, v, c in L: \n",
    "            u -= 1\n",
    "            v -= 1\n",
    "            G[u].add((v, c))\n",
    "            G[v].add((u, c)) \n",
    "        return G \n",
    "    V, L = loadWeightedGraph(graph)\n",
    "    graph = convert_graph(V, L)\n",
    "\n",
    "    max_min = [-float('inf')] * V\n",
    "    max_min[0] = float('inf')\n",
    "\n",
    "    queue = PriorityQueue()\n",
    "    queue.put((-float('inf'), 0))\n",
    "\n",
    "    while not queue.empty():\n",
    "        weight, u = queue.get()\n",
    "        if u == 1:\n",
    "            return max_min[1]\n",
    "\n",
    "        weight = -weight\n",
    "        if weight < max_min[u]:\n",
    "            continue\n",
    "\n",
    "        for v, w in graph[u]:\n",
    "            new_weight = min(w, max_min[u]) #kandydat\n",
    "            if new_weight > max_min[v]:\n",
    "                max_min[v] = new_weight\n",
    "                queue.put((-new_weight, v))"
   ]
  },
  {
   "cell_type": "code",
   "execution_count": 68,
   "metadata": {},
   "outputs": [
    {
     "name": "stdout",
     "output_type": "stream",
     "text": [
      "All tests passed.\n"
     ]
    }
   ],
   "source": [
    "testAllGraphs(\"graphs\", dijkstra_max_min)"
   ]
  }
 ],
 "metadata": {
  "kernelspec": {
   "display_name": "Python 3",
   "language": "python",
   "name": "python3"
  },
  "language_info": {
   "codemirror_mode": {
    "name": "ipython",
    "version": 3
   },
   "file_extension": ".py",
   "mimetype": "text/x-python",
   "name": "python",
   "nbconvert_exporter": "python",
   "pygments_lexer": "ipython3",
   "version": "3.10.12"
  }
 },
 "nbformat": 4,
 "nbformat_minor": 2
}
