{
 "cells": [
  {
   "cell_type": "markdown",
   "metadata": {},
   "source": [
    "Importy potrzebnych bibliotek i funkcji"
   ]
  },
  {
   "cell_type": "code",
   "execution_count": 1,
   "metadata": {},
   "outputs": [],
   "source": [
    "from dimacs import *\n",
    "from math import ceil\n",
    "from queue import deque, PriorityQueue"
   ]
  },
  {
   "cell_type": "markdown",
   "metadata": {},
   "source": [
    "Dany jest graf nieskierowany G = (V,E), funkcja c: E -> N dająca wagi krawędziom, oraz wyróżnione wierzchołki s i t.\n",
    "Szukamy scieżki z s do t takiej, że najmniejsza waga krawędzi na tej ścieżce jest jak największa.\n",
    "Należy zwrócić najmniejszą wagę krawędzi na znalezionej ścieżce."
   ]
  },
  {
   "cell_type": "markdown",
   "metadata": {},
   "source": [
    "1. Wykorzystanie struktury find-union"
   ]
  },
  {
   "cell_type": "code",
   "execution_count": 2,
   "metadata": {},
   "outputs": [],
   "source": [
    "class Node:\n",
    "    def __init__(self, value):\n",
    "        self.parent = self\n",
    "        self.rank = 0\n",
    "        self.value = value\n",
    "\n",
    "    def find_set(self):\n",
    "        if self.parent != self:\n",
    "            self.parent = self.parent.find_set()\n",
    "        return self.parent\n",
    "\n",
    "    def union(self, other):\n",
    "        root_self = self.find_set()\n",
    "        root_other = other.find_set()\n",
    "\n",
    "        if root_self != root_other:\n",
    "            if root_self.rank > root_other.rank:\n",
    "                root_other.parent = root_self\n",
    "            else:\n",
    "                root_self.parent = root_other\n",
    "                if root_self.rank == root_other.rank:\n",
    "                    root_other.rank += 1\n",
    "\n",
    "\n",
    "def find_union_max_min(graph):\n",
    "    V, L = loadWeightedGraph(graph)\n",
    "    nodes = [Node(i) for i in range(V)] \n",
    "    L.sort(key=lambda x: x[2], reverse=True)\n",
    "\n",
    "    for edge in L:\n",
    "        x = nodes[edge[0]-1]\n",
    "        y = nodes[edge[1]-1]\n",
    "        \n",
    "        if x.find_set() != y.find_set():\n",
    "            x.union(y)\n",
    "        if nodes[0].find_set() == nodes[1].find_set():\n",
    "            return edge[2]"
   ]
  },
  {
   "cell_type": "code",
   "execution_count": 3,
   "metadata": {},
   "outputs": [
    {
     "data": {
      "text/plain": [
       "960"
      ]
     },
     "execution_count": 3,
     "metadata": {},
     "output_type": "execute_result"
    }
   ],
   "source": [
    "find_union_max_min(\"graphs/pp1000\")"
   ]
  },
  {
   "cell_type": "markdown",
   "metadata": {},
   "source": [
    "2. Wyszukiwanie binarne + przegląd grafu metodami BFS/DFS"
   ]
  },
  {
   "cell_type": "code",
   "execution_count": 4,
   "metadata": {},
   "outputs": [],
   "source": [
    "def binary_search_max_min(graph):\n",
    "\n",
    "    def convert_graph(V, L):\n",
    "        G = [set() for _ in range(V)]\n",
    "        for u, v, c in L: \n",
    "            u -= 1\n",
    "            v -= 1\n",
    "            G[u].add((v, c))\n",
    "            G[v].add((u, c)) \n",
    "        return G \n",
    "\n",
    "    def has_path_with_min_weight(G, min_weight):\n",
    "        n = len(G)\n",
    "        visited = [False] * n\n",
    "        visited[0] = True\n",
    "        queue = deque()\n",
    "        queue.append(0)\n",
    "        while queue:\n",
    "            vertex = queue.popleft()\n",
    "            for to_go, weight in G[vertex]:\n",
    "                if weight >= min_weight and not visited[to_go]: #tak obsluguje nieprzekraczanie min_weight\n",
    "                    if to_go == 1:\n",
    "                        return True\n",
    "                    queue.append(to_go)\n",
    "                    visited[to_go] = True\n",
    "        return False\n",
    "\n",
    "    V, L = loadWeightedGraph(graph)\n",
    "\n",
    "    max_weight = -float('inf')\n",
    "    min_weight = float('inf')\n",
    "    for edge in L:\n",
    "        max_weight = max(max_weight, edge[2])\n",
    "        min_weight = min(min_weight, edge[2])\n",
    "\n",
    "    graph = convert_graph(V, L)\n",
    "    left = min_weight\n",
    "    right = max_weight\n",
    "\n",
    "    while right - left > 1:\n",
    "        mid = (left + right) / 2\n",
    "        if has_path_with_min_weight(graph, mid):\n",
    "            left = mid\n",
    "        else:\n",
    "            right = mid\n",
    "    \n",
    "    return ceil(left)"
   ]
  },
  {
   "cell_type": "code",
   "execution_count": 5,
   "metadata": {},
   "outputs": [
    {
     "data": {
      "text/plain": [
       "960"
      ]
     },
     "execution_count": 5,
     "metadata": {},
     "output_type": "execute_result"
    }
   ],
   "source": [
    "binary_search_max_min(\"graphs/pp1000\")"
   ]
  },
  {
   "cell_type": "markdown",
   "metadata": {},
   "source": [
    "3. Algorytm a’la Dijkstra"
   ]
  },
  {
   "cell_type": "code",
   "execution_count": 6,
   "metadata": {},
   "outputs": [],
   "source": [
    "def dijkstra_max_min(graph):\n",
    "\n",
    "    def convert_graph(V, L):\n",
    "        G = [set() for _ in range(V)]\n",
    "        for u, v, c in L: \n",
    "            u -= 1\n",
    "            v -= 1\n",
    "            G[u].add((v, c))\n",
    "            G[v].add((u, c)) \n",
    "        return G \n",
    "    V, L = loadWeightedGraph(graph)\n",
    "    graph = convert_graph(V, L)\n",
    "\n",
    "    max_min = [-float('inf')] * V\n",
    "    max_min[0] = float('inf')\n",
    "\n",
    "    queue = PriorityQueue()\n",
    "    queue.put((-float('inf'), 0))\n",
    "\n",
    "    while not queue.empty():\n",
    "        weight, u = queue.get()\n",
    "        if u == 1:\n",
    "            return max_min[1]\n",
    "\n",
    "        weight = -weight\n",
    "        if weight < max_min[u]:\n",
    "            continue\n",
    "\n",
    "        for v, w in graph[u]:\n",
    "            new_weight = min(w, max_min[u]) #kandydat\n",
    "            if new_weight > max_min[v]:\n",
    "                max_min[v] = new_weight\n",
    "                queue.put((-new_weight, v))"
   ]
  },
  {
   "cell_type": "code",
   "execution_count": 7,
   "metadata": {},
   "outputs": [
    {
     "data": {
      "text/plain": [
       "960"
      ]
     },
     "execution_count": 7,
     "metadata": {},
     "output_type": "execute_result"
    }
   ],
   "source": [
    "dijkstra_max_min(\"graphs/pp1000\")"
   ]
  }
 ],
 "metadata": {
  "kernelspec": {
   "display_name": "Python 3",
   "language": "python",
   "name": "python3"
  },
  "language_info": {
   "codemirror_mode": {
    "name": "ipython",
    "version": 3
   },
   "file_extension": ".py",
   "mimetype": "text/x-python",
   "name": "python",
   "nbconvert_exporter": "python",
   "pygments_lexer": "ipython3",
   "version": "3.10.11"
  }
 },
 "nbformat": 4,
 "nbformat_minor": 2
}
