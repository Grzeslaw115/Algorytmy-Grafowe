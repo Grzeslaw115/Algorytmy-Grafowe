{
 "cells": [
  {
   "cell_type": "markdown",
   "metadata": {},
   "source": [
    "Importy bibliotek"
   ]
  },
  {
   "cell_type": "code",
   "execution_count": 243,
   "metadata": {},
   "outputs": [],
   "source": [
    "from dimacs import *\n",
    "import networkx as nx \n",
    "from networkx.algorithms.planarity import check_planarity\n",
    "from networkx.algorithms.flow import maximum_flow\n",
    "from networkx.algorithms.components import strongly_connected_components\n",
    "from networkx.algorithms.dag import topological_sort"
   ]
  },
  {
   "cell_type": "markdown",
   "metadata": {},
   "source": [
    "Budowa grafu"
   ]
  },
  {
   "cell_type": "code",
   "execution_count": 244,
   "metadata": {},
   "outputs": [],
   "source": [
    "def buildGraph(G):\n",
    "    (V, L) = loadWeightedGraph(G)\n",
    "    G = nx.Graph()\n",
    "    for u, v, _ in L:\n",
    "        G.add_edge(u, v)\n",
    "\n",
    "    return G"
   ]
  },
  {
   "cell_type": "markdown",
   "metadata": {},
   "source": [
    "Zadanie 1. Sprawdzanie planarności"
   ]
  },
  {
   "cell_type": "code",
   "execution_count": 245,
   "metadata": {},
   "outputs": [
    {
     "data": {
      "text/plain": [
       "(False, None)"
      ]
     },
     "execution_count": 245,
     "metadata": {},
     "output_type": "execute_result"
    }
   ],
   "source": [
    "G = buildGraph(\"graphs-lab7/planitarity/16-cell.txt\")\n",
    "check_planarity(G)"
   ]
  },
  {
   "cell_type": "markdown",
   "metadata": {},
   "source": [
    "Zadanie 2. Maksymalny przepływ"
   ]
  },
  {
   "cell_type": "code",
   "execution_count": 246,
   "metadata": {},
   "outputs": [],
   "source": [
    "def buildGraph(G):\n",
    "    (V, L) = loadWeightedGraph(G)\n",
    "    G = nx.Graph()\n",
    "    for u, v, w in L:\n",
    "        G.add_edge(u, v)\n",
    "        G[u][v]['capacity'] = w\n",
    "        \n",
    "    return G"
   ]
  },
  {
   "cell_type": "code",
   "execution_count": 247,
   "metadata": {},
   "outputs": [
    {
     "data": {
      "text/plain": [
       "(132,\n",
       " {1: {6: 68, 13: 64},\n",
       "  6: {1: 0, 3: 0, 5: 0, 11: 3, 13: 17, 16: 0, 18: 0, 20: 48},\n",
       "  13: {1: 0, 2: 0, 3: 0, 4: 6, 5: 0, 6: 0, 10: 0, 11: 0, 16: 0, 20: 75},\n",
       "  2: {3: 0, 4: 0, 5: 0, 7: 0, 12: 0, 13: 0, 14: 0, 15: 0, 16: 0, 18: 0, 19: 0},\n",
       "  3: {2: 0, 6: 0, 7: 0, 8: 0, 10: 0, 12: 0, 13: 0, 14: 0, 17: 0},\n",
       "  4: {2: 0, 7: 0, 10: 0, 11: 0, 13: 0, 14: 0, 15: 0, 20: 6},\n",
       "  5: {2: 0, 6: 0, 7: 0, 10: 0, 12: 0, 13: 0, 14: 0, 17: 0},\n",
       "  7: {2: 0, 3: 0, 4: 0, 5: 0, 10: 0, 14: 0, 15: 0, 19: 0, 20: 0},\n",
       "  12: {2: 0, 3: 0, 5: 0, 9: 0, 10: 0, 14: 0, 15: 0, 16: 0, 17: 0},\n",
       "  14: {2: 0, 3: 0, 4: 0, 5: 0, 7: 0, 10: 0, 11: 0, 12: 0, 15: 0, 18: 0},\n",
       "  15: {2: 0, 4: 0, 7: 0, 9: 0, 10: 0, 12: 0, 14: 0, 19: 0},\n",
       "  16: {2: 0, 6: 0, 8: 0, 12: 0, 13: 0, 17: 0, 18: 0},\n",
       "  18: {2: 0, 6: 0, 11: 0, 14: 0, 16: 0, 20: 0},\n",
       "  19: {2: 0, 7: 0, 11: 0, 15: 0},\n",
       "  8: {3: 0, 16: 0},\n",
       "  10: {3: 0, 4: 0, 5: 0, 7: 0, 9: 0, 11: 0, 12: 0, 13: 0, 14: 0, 15: 0, 17: 0},\n",
       "  17: {3: 0, 5: 0, 10: 0, 11: 0, 12: 0, 16: 0, 20: 0},\n",
       "  11: {4: 0, 6: 0, 10: 0, 13: 0, 14: 0, 17: 0, 18: 0, 19: 0, 20: 3},\n",
       "  20: {4: 0, 6: 0, 7: 0, 9: 0, 11: 0, 13: 0, 17: 0, 18: 0},\n",
       "  9: {10: 0, 12: 0, 15: 0, 20: 0}})"
      ]
     },
     "execution_count": 247,
     "metadata": {},
     "output_type": "execute_result"
    }
   ],
   "source": [
    "G = buildGraph(\"graphs-lab7/flow/rand20_100\")\n",
    "maximum_flow(G, 1, 20)"
   ]
  },
  {
   "cell_type": "markdown",
   "metadata": {},
   "source": [
    "Zadanie 3. SAT-2CNF"
   ]
  },
  {
   "cell_type": "code",
   "execution_count": 248,
   "metadata": {},
   "outputs": [],
   "source": [
    "def buildImplicationGraph(F):\n",
    "    (V, L) = loadCNFFormula(F)\n",
    "    graph = nx.DiGraph()\n",
    "    for clause in L:\n",
    "        x, y = clause\n",
    "        # Rownowazne alternatywie\n",
    "        graph.add_edge(-x, y)\n",
    "        graph.add_edge(-y, x)\n",
    "        \n",
    "    return graph\n"
   ]
  },
  {
   "cell_type": "code",
   "execution_count": 249,
   "metadata": {},
   "outputs": [],
   "source": [
    "def isSatisfiable(G):\n",
    "    scc = list(strongly_connected_components(G))\n",
    "    for component in scc:\n",
    "        for node in component:\n",
    "            if -node in component:\n",
    "                return False, _\n",
    "\n",
    "    return True, scc\n"
   ]
  },
  {
   "cell_type": "code",
   "execution_count": 250,
   "metadata": {},
   "outputs": [],
   "source": [
    "def assignValues(F):\n",
    "\n",
    "    i_G = buildImplicationGraph(F)\n",
    "    satisfiable, scc = isSatisfiable(i_G)\n",
    "\n",
    "    if not satisfiable:\n",
    "        print(\"Formula jest niespelnialna\")\n",
    "        return\n",
    "\n",
    "    # Tworzenie grafu H silnie spójnych składowych\n",
    "    H = nx.DiGraph()\n",
    "    component_map = {node: comp for comp, nodes in enumerate(scc) for node in nodes}\n",
    "\n",
    "    for u, v in i_G.edges():\n",
    "        if component_map[u] != component_map[v]:\n",
    "            H.add_edge(component_map[u], component_map[v])\n",
    "\n",
    "    order = topological_sort(H)\n",
    "\n",
    "\n",
    "    # Przydzielenie wartości zmiennym\n",
    "    value_assignment = {}\n",
    "    for component in order:\n",
    "        for node in scc[component]:\n",
    "            if node not in value_assignment and -node not in value_assignment:\n",
    "                value_assignment[node] = False\n",
    "                value_assignment[-node] = True\n",
    "\n",
    "    return value_assignment"
   ]
  },
  {
   "cell_type": "code",
   "execution_count": 251,
   "metadata": {},
   "outputs": [
    {
     "name": "stdout",
     "output_type": "stream",
     "text": [
      "['c', 'solution=1']\n"
     ]
    },
    {
     "data": {
      "text/plain": [
       "{-14: False,\n",
       " 14: True,\n",
       " 19: False,\n",
       " -19: True,\n",
       " 15: False,\n",
       " -15: True,\n",
       " 4: False,\n",
       " -4: True,\n",
       " -20: False,\n",
       " 20: True,\n",
       " 23: False,\n",
       " -23: True,\n",
       " 21: False,\n",
       " -21: True,\n",
       " -17: False,\n",
       " 17: True,\n",
       " 7: False,\n",
       " -7: True,\n",
       " 2: False,\n",
       " -2: True,\n",
       " 27: False,\n",
       " -27: True,\n",
       " 1: False,\n",
       " -1: True,\n",
       " 25: False,\n",
       " -25: True,\n",
       " 18: False,\n",
       " -18: True,\n",
       " -3: False,\n",
       " 3: True,\n",
       " 12: False,\n",
       " -12: True,\n",
       " 10: False,\n",
       " -10: True,\n",
       " -22: False,\n",
       " 22: True,\n",
       " -26: False,\n",
       " 26: True,\n",
       " 8: False,\n",
       " -8: True,\n",
       " 11: False,\n",
       " -11: True,\n",
       " 28: False,\n",
       " -28: True,\n",
       " 24: False,\n",
       " -24: True,\n",
       " 9: False,\n",
       " -9: True,\n",
       " -5: False,\n",
       " 5: True,\n",
       " -16: False,\n",
       " 16: True,\n",
       " -13: False,\n",
       " 13: True,\n",
       " -30: False,\n",
       " 30: True,\n",
       " 29: False,\n",
       " -29: True,\n",
       " 6: False,\n",
       " -6: True}"
      ]
     },
     "execution_count": 251,
     "metadata": {},
     "output_type": "execute_result"
    }
   ],
   "source": [
    "assignValues(\"graphs-lab7/sat/sat30_50\")"
   ]
  },
  {
   "cell_type": "code",
   "execution_count": 252,
   "metadata": {},
   "outputs": [],
   "source": [
    "def checkAssingment(F, assingment):\n",
    "    if not assingment:\n",
    "        return\n",
    "        \n",
    "    for clause in F:\n",
    "        x, y = clause\n",
    "        logicalValue = assingment[x] or assingment[y]\n",
    "        if not logicalValue:\n",
    "            return False\n",
    "\n",
    "    return True"
   ]
  },
  {
   "cell_type": "code",
   "execution_count": 253,
   "metadata": {},
   "outputs": [
    {
     "name": "stdout",
     "output_type": "stream",
     "text": [
      "['c', 'solution=1']\n",
      "['c', 'solution=1']\n"
     ]
    },
    {
     "data": {
      "text/plain": [
       "True"
      ]
     },
     "execution_count": 253,
     "metadata": {},
     "output_type": "execute_result"
    }
   ],
   "source": [
    "(V, L) = loadCNFFormula(\"graphs-lab7/sat/sat15_30\")\n",
    "\n",
    "checkAssingment(L, assignValues(\"graphs-lab7/sat/sat15_30\"))"
   ]
  }
 ],
 "metadata": {
  "kernelspec": {
   "display_name": "Python 3",
   "language": "python",
   "name": "python3"
  },
  "language_info": {
   "codemirror_mode": {
    "name": "ipython",
    "version": 3
   },
   "file_extension": ".py",
   "mimetype": "text/x-python",
   "name": "python",
   "nbconvert_exporter": "python",
   "pygments_lexer": "ipython3",
   "version": "3.10.11"
  }
 },
 "nbformat": 4,
 "nbformat_minor": 2
}
