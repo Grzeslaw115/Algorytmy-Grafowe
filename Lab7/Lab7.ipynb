{
 "cells": [
  {
   "cell_type": "markdown",
   "metadata": {},
   "source": [
    "Importy bibliotek"
   ]
  },
  {
   "cell_type": "code",
   "execution_count": 46,
   "metadata": {},
   "outputs": [],
   "source": [
    "from dimacs import *\n",
    "import networkx as nx \n",
    "from networkx.algorithms.planarity import check_planarity\n",
    "from networkx.algorithms.flow import maximum_flow\n",
    "from networkx.algorithms.components import strongly_connected_components\n",
    "from networkx.algorithms.dag import topological_sort"
   ]
  },
  {
   "cell_type": "markdown",
   "metadata": {},
   "source": [
    "Budowa grafu"
   ]
  },
  {
   "cell_type": "code",
   "execution_count": 47,
   "metadata": {},
   "outputs": [],
   "source": [
    "def buildGraph(G):\n",
    "    (V, L) = loadWeightedGraph(G)\n",
    "    G = nx.Graph()\n",
    "    for u, v, _ in L:\n",
    "        G.add_edge(u, v)\n",
    "\n",
    "    return G"
   ]
  },
  {
   "cell_type": "markdown",
   "metadata": {},
   "source": [
    "Zadanie 1. Sprawdzanie planarności"
   ]
  },
  {
   "cell_type": "code",
   "execution_count": 48,
   "metadata": {},
   "outputs": [
    {
     "name": "stdout",
     "output_type": "stream",
     "text": [
      "Planarity of 16-cell.txt: False\n"
     ]
    }
   ],
   "source": [
    "for graph in os.listdir(\"graphs-lab7/planitarity\"):\n",
    "    G = buildGraph(f\"graphs-lab7/planitarity/{graph}\")\n",
    "    print(f'Planarity of {graph}: {check_planarity(G)[0]}')"
   ]
  },
  {
   "cell_type": "markdown",
   "metadata": {},
   "source": [
    "Zadanie 2. Maksymalny przepływ"
   ]
  },
  {
   "cell_type": "code",
   "execution_count": 49,
   "metadata": {},
   "outputs": [],
   "source": [
    "def buildGraph(G):\n",
    "    (V, L) = loadWeightedGraph(G)\n",
    "    G = nx.Graph()\n",
    "    for u, v, w in L:\n",
    "        G.add_edge(u, v)\n",
    "        G[u][v]['capacity'] = w\n",
    "        \n",
    "    return G"
   ]
  },
  {
   "cell_type": "code",
   "execution_count": 50,
   "metadata": {},
   "outputs": [
    {
     "name": "stdout",
     "output_type": "stream",
     "text": [
      "Maximum flow for clique100: 5185\n",
      "Maximum flow for clique20: 824\n",
      "Maximum flow for clique5: 138\n",
      "Maximum flow for grid100x100: 5080\n",
      "Maximum flow for grid5x5: 22\n",
      "Maximum flow for pp100: 136\n",
      "Maximum flow for rand100_500: 2430\n",
      "Maximum flow for rand20_100: 132\n",
      "Maximum flow for simple: 24\n",
      "Maximum flow for simple2: 6\n",
      "Maximum flow for trivial: 3\n",
      "Maximum flow for trivial2: 7\n",
      "Maximum flow for worstcase: 20\n"
     ]
    }
   ],
   "source": [
    "for graph in os.listdir(\"graphs-lab7/flow\"):\n",
    "    G = buildGraph(f\"graphs-lab7/flow/{graph}\")\n",
    "    print(f'Maximum flow for {graph}: {maximum_flow(G, 1, len(G))[0]}')"
   ]
  },
  {
   "cell_type": "markdown",
   "metadata": {},
   "source": [
    "Zadanie 3. SAT-2CNF"
   ]
  },
  {
   "cell_type": "code",
   "execution_count": 51,
   "metadata": {},
   "outputs": [],
   "source": [
    "def buildImplicationGraph(F):\n",
    "    (V, L) = loadCNFFormula(F)\n",
    "    graph = nx.DiGraph()\n",
    "    for clause in L:\n",
    "        x, y = clause\n",
    "        # Rownowazne alternatywie\n",
    "        graph.add_edge(-x, y)\n",
    "        graph.add_edge(-y, x)\n",
    "        \n",
    "    return graph\n"
   ]
  },
  {
   "cell_type": "code",
   "execution_count": 52,
   "metadata": {},
   "outputs": [],
   "source": [
    "def isSatisfiable(G):\n",
    "    scc = list(strongly_connected_components(G))\n",
    "    for component in scc:\n",
    "        for node in component:\n",
    "            if -node in component:\n",
    "                return False, _\n",
    "\n",
    "    return True, scc"
   ]
  },
  {
   "cell_type": "code",
   "execution_count": 53,
   "metadata": {},
   "outputs": [],
   "source": [
    "def assignValues(F):\n",
    "\n",
    "    i_G = buildImplicationGraph(F)\n",
    "    satisfiable, scc = isSatisfiable(i_G)\n",
    "\n",
    "    if not satisfiable:\n",
    "        return\n",
    "\n",
    "    # Tworzenie grafu H silnie spójnych składowych\n",
    "    H = nx.DiGraph()\n",
    "    component_map = {node: comp for comp, nodes in enumerate(scc) for node in nodes}\n",
    "\n",
    "    for u, v in i_G.edges():\n",
    "        if component_map[u] != component_map[v]:\n",
    "            H.add_edge(component_map[u], component_map[v])\n",
    "\n",
    "    order = topological_sort(H)\n",
    "\n",
    "\n",
    "    # Przydzielenie wartości zmiennym\n",
    "    value_assignment = {}\n",
    "    for component in order:\n",
    "        for node in scc[component]:\n",
    "            if node not in value_assignment and -node not in value_assignment:\n",
    "                value_assignment[node] = False\n",
    "                value_assignment[-node] = True\n",
    "\n",
    "    return value_assignment"
   ]
  },
  {
   "cell_type": "code",
   "execution_count": 54,
   "metadata": {},
   "outputs": [],
   "source": [
    "def checkAssingment(F, assingment):\n",
    "    if not assingment:\n",
    "        return\n",
    "        \n",
    "    for clause in F:\n",
    "        x, y = clause\n",
    "        logicalValue = assingment[x] or assingment[y]\n",
    "        if not logicalValue:\n",
    "            return False\n",
    "\n",
    "    return True"
   ]
  },
  {
   "cell_type": "code",
   "execution_count": 55,
   "metadata": {},
   "outputs": [
    {
     "name": "stdout",
     "output_type": "stream",
     "text": [
      "['c', 'solution=1']\n",
      "['c', 'solution=1']\n",
      "Formula sat100_100 is satisfiable: True\n",
      "['c', 'solution=1']\n",
      "['c', 'solution=1']\n",
      "Formula sat100_150 is satisfiable: True\n",
      "['c', 'solution=0']\n",
      "['c', 'solution=0']\n",
      "Formula sat100_200 is satisfiable: False\n",
      "['c', 'solution=0']\n",
      "['c', 'solution=0']\n",
      "Formula sat100_250 is satisfiable: False\n",
      "['c', 'solution=0']\n",
      "['c', 'solution=0']\n",
      "Formula sat100_400 is satisfiable: False\n",
      "['c', 'solution=1']\n",
      "['c', 'solution=1']\n",
      "Formula sat15_30 is satisfiable: True\n",
      "['c', 'solution=0']\n",
      "['c', 'solution=0']\n",
      "Formula sat30_100 is satisfiable: False\n",
      "['c', 'solution=1']\n",
      "['c', 'solution=1']\n",
      "Formula sat30_50 is satisfiable: True\n",
      "['c', 'solution=1']\n",
      "['c', 'solution=1']\n",
      "Formula sat5_10 is satisfiable: True\n",
      "['c', 'solution=0']\n",
      "['c', 'solution=0']\n",
      "Formula sat5_20 is satisfiable: False\n",
      "['c', 'solution=1']\n",
      "['c', 'solution=1']\n",
      "Formula simple_sat is satisfiable: True\n",
      "['c', 'solution', '=', '0']\n",
      "['c', 'solution', '=', '0']\n",
      "Formula simple_unsat is satisfiable: False\n"
     ]
    }
   ],
   "source": [
    "for formula in os.listdir(\"graphs-lab7/sat\"):\n",
    "    F = loadCNFFormula(f\"graphs-lab7/sat/{formula}\")[1]\n",
    "    assignment = assignValues(f\"graphs-lab7/sat/{formula}\")\n",
    "    assignment_check = checkAssingment(F, assignment)\n",
    "    if assignment_check is None:\n",
    "        assignment_check = False\n",
    "    print(f'Formula {formula} is satisfiable: {assignment_check}')"
   ]
  }
 ],
 "metadata": {
  "kernelspec": {
   "display_name": "Python 3",
   "language": "python",
   "name": "python3"
  },
  "language_info": {
   "codemirror_mode": {
    "name": "ipython",
    "version": 3
   },
   "file_extension": ".py",
   "mimetype": "text/x-python",
   "name": "python",
   "nbconvert_exporter": "python",
   "pygments_lexer": "ipython3",
   "version": "3.10.11"
  }
 },
 "nbformat": 4,
 "nbformat_minor": 2
}
