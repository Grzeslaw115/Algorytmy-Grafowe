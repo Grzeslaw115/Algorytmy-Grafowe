{
 "cells": [
  {
   "cell_type": "markdown",
   "metadata": {},
   "source": [
    "W ramach laboratorium należy zaimplementować algorytmy obliczające spójność krawędziową grafu."
   ]
  },
  {
   "cell_type": "markdown",
   "metadata": {},
   "source": [
    "$\\color{yellow}{\\text{Zadanie 1.}}$\n",
    "Opracuj i zaimplementuj algorytm obliczający spójność krawędziową zadanego grafu G, wykorzystując algorytm Forda-Fulkersona oraz następujący fakt:\n",
    "\n",
    "(Tw. Mengera) Minimalna ilość krawędzi które należy usunąć by zadane wierzchołki s, t znalazły się w różnych komponentach spójnych jest równa ilości krawędziowo rozłącznych ścieżek pomiędzy s i t"
   ]
  },
  {
   "cell_type": "code",
   "execution_count": 1,
   "metadata": {},
   "outputs": [],
   "source": [
    "from dimacs import *\n",
    "from queue import deque\n",
    "from queue import PriorityQueue\n",
    "import os"
   ]
  },
  {
   "cell_type": "code",
   "execution_count": 2,
   "metadata": {},
   "outputs": [],
   "source": [
    "def readSolution(graph):\n",
    "    with open(graph, \"r\") as f:\n",
    "        first_line = f.readline()\n",
    "    return int(first_line.split(\"=\")[1])\n",
    "\n",
    "def compareResults(file_path, graph_name, method, show_results=False):\n",
    "    \"\"\"Compares the result from the file with the result from the given method.\"\"\"\n",
    "    file_solution = readSolution(file_path)\n",
    "    algorithm_solution = method(file_path)\n",
    "\n",
    "    print(\"Graph name:\", graph_name)\n",
    "    if file_solution == algorithm_solution:\n",
    "        print(\"Test passed\")\n",
    "    else:\n",
    "        print(\"Test failed\")\n",
    "        show_results = True\n",
    "\n",
    "    if show_results:\n",
    "        print(\"Solution from file: \", file_solution)\n",
    "        print(\"Solution from algorithm: \", algorithm_solution)\n",
    "\n",
    "def testAllGraphs(directory_path, method):\n",
    "    \"\"\"Tests all graphs in the given directory with the specified method.\"\"\"\n",
    "    for filename in os.listdir(directory_path):\n",
    "        if filename == 'grid100x100':\n",
    "            continue\n",
    "\n",
    "        file_path = os.path.join(directory_path, filename)\n",
    "        if os.path.isfile(file_path):\n",
    "            compareResults(file_path, filename, method)"
   ]
  },
  {
   "cell_type": "markdown",
   "metadata": {},
   "source": [
    "Algorytm Forda Fulkersona, znajduje maksymalny przepływ między zadanymi wierzchołkami."
   ]
  },
  {
   "cell_type": "code",
   "execution_count": 3,
   "metadata": {},
   "outputs": [],
   "source": [
    "def convertGraph(graph):\n",
    "    n, graph = loadWeightedGraph(graph)\n",
    "\n",
    "    G = [[] for _ in range(n)]\n",
    "    matrix = [[0 for _ in range(n)] for _ in range(n)]\n",
    "\n",
    "\n",
    "    for (u, v, w) in graph:\n",
    "        u -= 1\n",
    "        v -= 1\n",
    "\n",
    "        G[u].append(v)\n",
    "        G[v].append(u)\n",
    "        matrix[u][v] = 1\n",
    "        matrix[v][u] = 1\n",
    "\n",
    "    return G, matrix\n",
    "\n",
    "def findPathBfs(graph, matrix, s, t):\n",
    "    q = deque()\n",
    "    q.append(s)\n",
    "\n",
    "    parent = [None for _ in range(len(graph))]\n",
    "    parent[s] = s\n",
    "\n",
    "    while len(q) > 0:\n",
    "        u = q.popleft()\n",
    "\n",
    "        for v in graph[u]:\n",
    "            if matrix[u][v] > 0 and parent[v] == None:\n",
    "                parent[v] = u\n",
    "                q.append(v)\n",
    "\n",
    "    if parent[t] == None:\n",
    "        return None\n",
    "\n",
    "    path = []\n",
    "    u = t\n",
    "    while u != s:\n",
    "        path.append(u)\n",
    "        u = parent[u]\n",
    "\n",
    "    path.append(s)\n",
    "    path.reverse()\n",
    "\n",
    "    return path\n",
    "\n",
    "def fordFulkerson(graph, s, t):\n",
    "    graph, matrix = convertGraph(graph)\n",
    "    n = len(graph)\n",
    "    flow = 0\n",
    "\n",
    "    path = findPathBfs(graph, matrix, s, t)\n",
    "    while path:\n",
    "        if len(path) == 1:\n",
    "            path = [0] + path\n",
    "        \n",
    "        flow += 1\n",
    "\n",
    "        for u, v in zip(path, path[1:]):\n",
    "            matrix[u][v] -= 1\n",
    "            matrix[v][u] += 1\n",
    "\n",
    "        path = findPathBfs(graph, matrix, s, t)\n",
    "    return flow"
   ]
  },
  {
   "cell_type": "markdown",
   "metadata": {},
   "source": [
    "Wywołanie algorymtu Forda Fulkersona dla każdej pary wierzchołków i zwrócenie najmniejszego z otrzymanych wyników."
   ]
  },
  {
   "cell_type": "code",
   "execution_count": 4,
   "metadata": {},
   "outputs": [],
   "source": [
    "def edgeConsitencyFf(graph):\n",
    "    result = float('inf')\n",
    "\n",
    "    G, _ = convertGraph(graph)\n",
    "    n = len(G)\n",
    "    for u in range(n):\n",
    "        for v in range(u + 1, n):\n",
    "            result = min(result, fordFulkerson(graph, u, v))\n",
    "\n",
    "    return result"
   ]
  },
  {
   "cell_type": "code",
   "execution_count": 17,
   "metadata": {},
   "outputs": [
    {
     "name": "stdout",
     "output_type": "stream",
     "text": [
      "2\n",
      "2\n",
      "2\n"
     ]
    }
   ],
   "source": [
    "print(edgeConsitencyFf(\"graphs-lab3/geo20_2b\"))\n",
    "print(edgeConsitencyFf(\"graphs-lab3/mc2\"))\n",
    "print(edgeConsitencyFf(\"graphs-lab3/rand20_100\"))"
   ]
  },
  {
   "cell_type": "markdown",
   "metadata": {},
   "source": [
    "$\\color{yellow}{\\text{Zadanie 2.}}$\n",
    "Proszę zaimplementować program obliczający spójność krawędziową grafu nieskierowanego G przy użyciu algorytmu Stoera-Wagnera."
   ]
  },
  {
   "cell_type": "code",
   "execution_count": 6,
   "metadata": {},
   "outputs": [],
   "source": [
    "class Node:\n",
    "  def __init__(self):\n",
    "    self.edges = {}    # słownik  mapujący wierzchołki do których są krawędzie na ich wagi\n",
    "\n",
    "  def addEdge( self, to, weight):\n",
    "    self.edges[to] = self.edges.get(to,0) + weight  # dodaj krawędź do zadanego wierzchołka\n",
    "                                                    # o zadanej wadze; a jeśli taka krawędź\n",
    "                                                    # istnieje, to dodaj do niej wagę\n",
    "\n",
    "  def delEdge( self, to ):\n",
    "    del self.edges[to]                              # usuń krawędź do zadanego wierzchołka"
   ]
  },
  {
   "cell_type": "code",
   "execution_count": 7,
   "metadata": {},
   "outputs": [],
   "source": [
    "def buildGraph(G):\n",
    "    (V, L) = loadWeightedGraph(G)\n",
    "    graph = [Node() for _ in range(V)]\n",
    "\n",
    "    for (x, y, c) in L:\n",
    "      x -= 1\n",
    "      y -= 1\n",
    "      graph[x].addEdge(y, c)\n",
    "      graph[y].addEdge(x, c)\n",
    "\n",
    "    vertices = set(range(0, V))  # Create a set of vertices\n",
    "    return graph, vertices\n",
    "\n",
    "def printGraph(G):\n",
    "  for v in range(len(G)):\n",
    "    if G[v].exists:\n",
    "      print(v, \":\", G[v].edges)"
   ]
  },
  {
   "cell_type": "code",
   "execution_count": 8,
   "metadata": {},
   "outputs": [],
   "source": [
    "def mergeVertices(G, x, y):\n",
    "    for v, w in G[y].edges.items():\n",
    "        if v != x:\n",
    "            G[x].addEdge(v, w)\n",
    "            G[v].addEdge(x, w)\n",
    "        G[v].delEdge(y)\n",
    "    G[y].edges = {}"
   ]
  },
  {
   "cell_type": "code",
   "execution_count": 9,
   "metadata": {},
   "outputs": [],
   "source": [
    "def minimumCutPhase(G, V):\n",
    "    Q = PriorityQueue()\n",
    "    a = 0\n",
    "    S = set()\n",
    "    S.add(a)\n",
    "    n_cut = [0 for _ in range(len(G))]\n",
    "\n",
    "    for v, weight in G[a].edges.items():\n",
    "        n_cut[v] = -weight\n",
    "        Q.put((-weight, v))\n",
    "\n",
    "    visited = set()\n",
    "    visited.add(a)\n",
    "    t = None\n",
    "    s = a\n",
    "\n",
    "    while not Q.empty():\n",
    "        curr_n_cut, v = Q.get()\n",
    "\n",
    "        if v in visited:\n",
    "            continue\n",
    "\n",
    "        visited.add(v)\n",
    "        cut = -curr_n_cut\n",
    "        t = s\n",
    "        s = v\n",
    "\n",
    "        for u, weight in G[v].edges.items():\n",
    "            n_cut[u] -= weight\n",
    "            if u not in visited:\n",
    "                Q.put((n_cut[u], u))\n",
    "\n",
    "    mergeVertices(G, s, t)\n",
    "\n",
    "    return (t, cut)"
   ]
  },
  {
   "cell_type": "code",
   "execution_count": 10,
   "metadata": {},
   "outputs": [],
   "source": [
    "def edgeConsistencySw(path):\n",
    "    G, V = buildGraph(path)\n",
    "    result = float('inf')\n",
    "    \n",
    "    while len(V) > 1:\n",
    "        y, pot_result = minimumCutPhase(G, V)\n",
    "        V.remove(y)\n",
    "        result = min(result, pot_result)\n",
    "    return result"
   ]
  },
  {
   "cell_type": "code",
   "execution_count": 11,
   "metadata": {},
   "outputs": [
    {
     "name": "stdout",
     "output_type": "stream",
     "text": [
      "Graph name: clique100\n",
      "Test passed\n",
      "Graph name: clique20\n",
      "Test passed\n",
      "Graph name: clique200\n",
      "Test passed\n",
      "Graph name: clique5\n",
      "Test passed\n",
      "Graph name: cycle\n",
      "Test passed\n",
      "Graph name: geo100_2a\n",
      "Test passed\n",
      "Graph name: geo20_2b\n",
      "Test passed\n",
      "Graph name: geo20_2c\n",
      "Test passed\n",
      "Graph name: grid5x5\n",
      "Test passed\n",
      "Graph name: mc1\n",
      "Test passed\n",
      "Graph name: mc2\n",
      "Test passed\n",
      "Graph name: path\n",
      "Test passed\n",
      "Graph name: rand100_500\n",
      "Test passed\n",
      "Graph name: rand20_100\n",
      "Test passed\n",
      "Graph name: simple\n",
      "Test passed\n",
      "Graph name: trivial\n",
      "Test passed\n"
     ]
    }
   ],
   "source": [
    "testAllGraphs(\"graphs-lab3\", edgeConsistencySw)"
   ]
  }
 ],
 "metadata": {
  "kernelspec": {
   "display_name": "Python 3",
   "language": "python",
   "name": "python3"
  },
  "language_info": {
   "codemirror_mode": {
    "name": "ipython",
    "version": 3
   },
   "file_extension": ".py",
   "mimetype": "text/x-python",
   "name": "python",
   "nbconvert_exporter": "python",
   "pygments_lexer": "ipython3",
   "version": "3.10.11"
  }
 },
 "nbformat": 4,
 "nbformat_minor": 2
}
