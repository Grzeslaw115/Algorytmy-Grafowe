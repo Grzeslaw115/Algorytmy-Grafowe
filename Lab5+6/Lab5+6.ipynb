{
 "cells": [
  {
   "cell_type": "code",
   "execution_count": 1,
   "metadata": {},
   "outputs": [],
   "source": [
    "from dimacs import *\n",
    "import os"
   ]
  },
  {
   "cell_type": "code",
   "execution_count": 2,
   "metadata": {},
   "outputs": [],
   "source": [
    "class Node:\n",
    "  def __init__(self, idx):\n",
    "    self.idx = idx\n",
    "    self.out = set()              # zbiór sąsiadów\n",
    "\n",
    "  def connect_to(self, v):\n",
    "    self.out.add(v)\n",
    "\n",
    "def buildGraph(G):\n",
    "    (V, L) = loadWeightedGraph(G)\n",
    "    graph = [None] + [Node(i) for i in range(1, V+1)]\n",
    "\n",
    "    for (x, y, _) in L:\n",
    "      graph[x].connect_to(y)\n",
    "      graph[y].connect_to(x)\n",
    "\n",
    "    return graph"
   ]
  },
  {
   "cell_type": "code",
   "execution_count": 3,
   "metadata": {},
   "outputs": [],
   "source": [
    "def checkLexBFS(G, vs):\n",
    "  n = len(G)\n",
    "  pi = [None] * n\n",
    "  for i, v in enumerate(vs):\n",
    "    pi[v] = i\n",
    "\n",
    "  for i in range(n-1):\n",
    "    for j in range(i+1, n-1):\n",
    "      Ni = G[vs[i]].out\n",
    "      Nj = G[vs[j]].out\n",
    "\n",
    "      verts = [pi[v] for v in Nj - Ni if pi[v] < i]\n",
    "      if verts:\n",
    "        viable = [pi[v] for v in Ni - Nj]\n",
    "        if not viable or min(verts) <= min(viable):\n",
    "          return False\n",
    "  return True"
   ]
  },
  {
   "cell_type": "markdown",
   "metadata": {},
   "source": [
    "W każdym kroku wybierany jest jeden wierzchołek do przetworzenia. Na początku jest to dowolny wierzchołek, ale w dalszych krokach wybierane są te wierzchołki, które mają największą liczbę sąsiadów spośród już odwiedzonych wierzchołków."
   ]
  },
  {
   "cell_type": "code",
   "execution_count": 4,
   "metadata": {},
   "outputs": [],
   "source": [
    "def lexBFS(graph):\n",
    "    n = len(graph) - 1  # indeksujemy od 1\n",
    "\n",
    "    sets = [set(range(1, n + 1))]\n",
    "    visited = []\n",
    "\n",
    "    while sets:\n",
    "        # Wybieranie i usuwanie wierzchołka z ostatniego zbioru.\n",
    "        curr = sets[-1].pop()\n",
    "        visited.append(curr)\n",
    "\n",
    "        partition = []\n",
    "\n",
    "        for existing_set in sets:\n",
    "            # Znajdowanie sąsiadów bieżącego wierzchołka 'curr' w zbiorze 'existing_set'.\n",
    "            reachable = {v for v in existing_set if curr in graph[v].out}\n",
    "            unreachable = existing_set - reachable\n",
    "\n",
    "            if unreachable:\n",
    "                partition.append(unreachable)\n",
    "            if reachable:\n",
    "                partition.append(reachable)\n",
    "\n",
    "        sets = partition\n",
    "\n",
    "    return visited"
   ]
  },
  {
   "cell_type": "markdown",
   "metadata": {},
   "source": [
    "Funkcje pozwalajace testować zaimplementowane algorytmy"
   ]
  },
  {
   "cell_type": "code",
   "execution_count": 5,
   "metadata": {},
   "outputs": [],
   "source": [
    "def readSolution(graph):\n",
    "    with open(graph, \"r\") as f:\n",
    "        first_line = f.readline()\n",
    "    return int(first_line.split(\"=\")[1])\n",
    "\n",
    "def compareResults(file_path, algorithm):\n",
    "    file_solution = readSolution(file_path)\n",
    "    algorithm_solution = algorithm(file_path)\n",
    "\n",
    "    print(file_path)\n",
    "    if file_solution == algorithm_solution:\n",
    "        print(\"Test passed\")\n",
    "    else:\n",
    "        print(\"Test failed\")\n",
    "\n",
    "def testAllGraphs(directory_path, algorithm):\n",
    "    for filename in os.listdir(directory_path):\n",
    "        file_path = os.path.join(directory_path, filename)\n",
    "        if os.path.isfile(file_path):\n",
    "            compareResults(file_path, algorithm)"
   ]
  },
  {
   "cell_type": "markdown",
   "metadata": {},
   "source": [
    "$\\color{yellow}{\\text{Zadanie 1.}}$ Zaimplementuj algorytm sprawdzający, czy zadany graf G jest grafem przekątniowym."
   ]
  },
  {
   "cell_type": "code",
   "execution_count": 6,
   "metadata": {},
   "outputs": [],
   "source": [
    "def isChordal(G):\n",
    "    G = buildGraph(G)\n",
    "    lexBFS_result = lexBFS(G)\n",
    "\n",
    "    n = len(lexBFS_result)\n",
    "    rn = {}\n",
    "        \n",
    "    for v in lexBFS_result:\n",
    "        rn[v] = set()\n",
    "        parent = None\n",
    "        # Sprawdzamy każdy wierzchołek połączony z 'v'.\n",
    "        for u in G[v].out:\n",
    "            if lexBFS_result.index(u) < lexBFS_result.index(v):\n",
    "                rn[v].add(u)\n",
    "                if parent is None or lexBFS_result.index(u) > lexBFS_result.index(parent):\n",
    "                    parent = u\n",
    "\n",
    "        if parent is not None:\n",
    "            for u in rn[v]:\n",
    "                # Jeśli 'u' nie jest 'parent' i nie istnieje krawędź z 'u' do 'parent', graf nie jest chordalny.\n",
    "                if u != parent and parent not in G[u].out:\n",
    "                    return False\n",
    "\n",
    "    return True"
   ]
  },
  {
   "cell_type": "code",
   "execution_count": 7,
   "metadata": {},
   "outputs": [
    {
     "name": "stdout",
     "output_type": "stream",
     "text": [
      "graphs-lab5_6/chordal\\AT\n",
      "Test passed\n",
      "graphs-lab5_6/chordal\\clique100\n",
      "Test passed\n",
      "graphs-lab5_6/chordal\\clique20\n",
      "Test passed\n",
      "graphs-lab5_6/chordal\\clique200\n",
      "Test passed\n",
      "graphs-lab5_6/chordal\\clique4\n",
      "Test passed\n",
      "graphs-lab5_6/chordal\\clique5\n",
      "Test passed\n",
      "graphs-lab5_6/chordal\\cycle3\n",
      "Test passed\n",
      "graphs-lab5_6/chordal\\cycle4\n",
      "Test passed\n",
      "graphs-lab5_6/chordal\\cycle6\n",
      "Test passed\n",
      "graphs-lab5_6/chordal\\example-fig5\n",
      "Test passed\n",
      "graphs-lab5_6/chordal\\franklin\n",
      "Test passed\n",
      "graphs-lab5_6/chordal\\grid5x5\n",
      "Test passed\n",
      "graphs-lab5_6/chordal\\grotzsch\n",
      "Test passed\n",
      "graphs-lab5_6/chordal\\house\n",
      "Test passed\n",
      "graphs-lab5_6/chordal\\interval-rnd10\n",
      "Test passed\n",
      "graphs-lab5_6/chordal\\interval-rnd100\n",
      "Test passed\n",
      "graphs-lab5_6/chordal\\interval-rnd20\n",
      "Test passed\n",
      "graphs-lab5_6/chordal\\interval-rnd30\n",
      "Test passed\n",
      "graphs-lab5_6/chordal\\interval-rnd50\n",
      "Test passed\n",
      "graphs-lab5_6/chordal\\interval-rnd6\n",
      "Test passed\n",
      "graphs-lab5_6/chordal\\interval-rnd8\n",
      "Test passed\n",
      "graphs-lab5_6/chordal\\K33\n",
      "Test passed\n",
      "graphs-lab5_6/chordal\\nonplanar-ex1\n",
      "Test passed\n",
      "graphs-lab5_6/chordal\\nonplanar-ex2\n",
      "Test passed\n",
      "graphs-lab5_6/chordal\\path\n",
      "Test passed\n",
      "graphs-lab5_6/chordal\\simple\n",
      "Test passed\n",
      "graphs-lab5_6/chordal\\simple-noninterval1\n",
      "Test passed\n",
      "graphs-lab5_6/chordal\\simple-noninterval2\n",
      "Test passed\n"
     ]
    }
   ],
   "source": [
    "testAllGraphs(\"graphs-lab5_6/chordal\", isChordal)"
   ]
  },
  {
   "cell_type": "markdown",
   "metadata": {},
   "source": [
    "$\\color{yellow}{\\text{Zadanie 2.}}$ Zaimplementuj algorytm znajdujący rozmiar największej kliki w G."
   ]
  },
  {
   "cell_type": "code",
   "execution_count": 8,
   "metadata": {},
   "outputs": [],
   "source": [
    "def maxClique(G):\n",
    "    G = buildGraph(G)\n",
    "    lexBFS_result = lexBFS(G)\n",
    "\n",
    "    result = 0\n",
    "    rn = {}\n",
    "\n",
    "    for v in lexBFS_result:\n",
    "        rn[v] = set()\n",
    "\n",
    "        for u in G[v].out:\n",
    "            if u in rn:\n",
    "                rn[v].add(u)\n",
    "\n",
    "        # Aktualizacja zmiennej 'result', jeśli rozmiar kliki dla 'v' jest większy.\n",
    "        # Dodajemy 1, ponieważ 'v' także jest częścią kliki.\n",
    "        result = max(result, len(rn[v]) + 1)\n",
    "\n",
    "    return result"
   ]
  },
  {
   "cell_type": "code",
   "execution_count": 9,
   "metadata": {},
   "outputs": [
    {
     "name": "stdout",
     "output_type": "stream",
     "text": [
      "graphs-lab5_6/maxclique\\AT\n",
      "Test passed\n",
      "graphs-lab5_6/maxclique\\clique100\n",
      "Test passed\n",
      "graphs-lab5_6/maxclique\\clique20\n",
      "Test passed\n",
      "graphs-lab5_6/maxclique\\clique200\n",
      "Test passed\n",
      "graphs-lab5_6/maxclique\\clique4\n",
      "Test passed\n",
      "graphs-lab5_6/maxclique\\clique5\n",
      "Test passed\n",
      "graphs-lab5_6/maxclique\\cycle3\n",
      "Test passed\n",
      "graphs-lab5_6/maxclique\\example-fig5\n",
      "Test passed\n",
      "graphs-lab5_6/maxclique\\house\n",
      "Test passed\n",
      "graphs-lab5_6/maxclique\\interval-rnd10\n",
      "Test passed\n",
      "graphs-lab5_6/maxclique\\interval-rnd100\n",
      "Test passed\n",
      "graphs-lab5_6/maxclique\\interval-rnd20\n",
      "Test passed\n",
      "graphs-lab5_6/maxclique\\interval-rnd30\n",
      "Test passed\n",
      "graphs-lab5_6/maxclique\\interval-rnd50\n",
      "Test passed\n",
      "graphs-lab5_6/maxclique\\interval-rnd6\n",
      "Test passed\n",
      "graphs-lab5_6/maxclique\\interval-rnd8\n",
      "Test passed\n",
      "graphs-lab5_6/maxclique\\nonplanar-ex1\n",
      "Test passed\n",
      "graphs-lab5_6/maxclique\\path\n",
      "Test passed\n",
      "graphs-lab5_6/maxclique\\simple\n",
      "Test passed\n",
      "graphs-lab5_6/maxclique\\simple-noninterval1\n",
      "Test passed\n",
      "graphs-lab5_6/maxclique\\simple-noninterval2\n",
      "Test passed\n"
     ]
    }
   ],
   "source": [
    "testAllGraphs(\"graphs-lab5_6/maxclique\", maxClique)"
   ]
  },
  {
   "cell_type": "markdown",
   "metadata": {},
   "source": [
    "$\\color{yellow}{\\text{Zadanie 3.}}$ Zaimplementuj algorytm znajdujący optymalne (używające minimalnej liczby kolorów) kolorowanie grafu G i tym samym obliczający liczbę chromatyczną G.\n",
    "$\\color{red}{\\text{Zakłada się, że graf jest przekątniowy!}}$ "
   ]
  },
  {
   "cell_type": "code",
   "execution_count": 10,
   "metadata": {},
   "outputs": [],
   "source": [
    "def coloring(G):\n",
    "    G = buildGraph(G)\n",
    "    lexBFS_result = lexBFS(G)\n",
    "\n",
    "    # Inicjalizacja listy kolorów dla każdego wierzchołka. Początkowo wszystkie wierzchołki są niepokolorowane (0).\n",
    "    color = [0] * len(G)\n",
    "\n",
    "    for v in lexBFS_result:\n",
    "        neighbors = G[v].out\n",
    "        used = {color[u] for u in neighbors}\n",
    "\n",
    "        # Wybór najmniejszego dostępnego koloru, który nie został użyty przez sąsiadów.\n",
    "        c = 1\n",
    "        while c in used:\n",
    "            c += 1\n",
    "\n",
    "        # Przypisanie wybranego koloru wierzchołkowi 'v'.\n",
    "        color[v] = c\n",
    "\n",
    "    return max(color)"
   ]
  },
  {
   "cell_type": "code",
   "execution_count": 11,
   "metadata": {},
   "outputs": [
    {
     "name": "stdout",
     "output_type": "stream",
     "text": [
      "graphs-lab5_6/coloring\\AT\n",
      "Test passed\n",
      "graphs-lab5_6/coloring\\clique100\n",
      "Test passed\n",
      "graphs-lab5_6/coloring\\clique20\n",
      "Test passed\n",
      "graphs-lab5_6/coloring\\clique200\n",
      "Test passed\n",
      "graphs-lab5_6/coloring\\clique4\n",
      "Test passed\n",
      "graphs-lab5_6/coloring\\clique5\n",
      "Test passed\n",
      "graphs-lab5_6/coloring\\cycle3\n",
      "Test passed\n",
      "graphs-lab5_6/coloring\\example-fig5\n",
      "Test passed\n",
      "graphs-lab5_6/coloring\\house\n",
      "Test passed\n",
      "graphs-lab5_6/coloring\\interval-rnd10\n",
      "Test passed\n",
      "graphs-lab5_6/coloring\\interval-rnd100\n",
      "Test passed\n",
      "graphs-lab5_6/coloring\\interval-rnd20\n",
      "Test passed\n",
      "graphs-lab5_6/coloring\\interval-rnd30\n",
      "Test passed\n",
      "graphs-lab5_6/coloring\\interval-rnd50\n",
      "Test passed\n",
      "graphs-lab5_6/coloring\\interval-rnd6\n",
      "Test passed\n",
      "graphs-lab5_6/coloring\\interval-rnd8\n",
      "Test passed\n",
      "graphs-lab5_6/coloring\\nonplanar-ex1\n",
      "Test passed\n",
      "graphs-lab5_6/coloring\\path\n",
      "Test passed\n",
      "graphs-lab5_6/coloring\\simple\n",
      "Test passed\n",
      "graphs-lab5_6/coloring\\simple-noninterval1\n",
      "Test passed\n",
      "graphs-lab5_6/coloring\\simple-noninterval2\n",
      "Test passed\n"
     ]
    }
   ],
   "source": [
    "testAllGraphs(\"graphs-lab5_6/coloring\", coloring)"
   ]
  },
  {
   "cell_type": "markdown",
   "metadata": {},
   "source": [
    "$\\color{yellow}{\\text{Zadanie 4.}}$ Zaimplementuj algorytm znajdujący rozmiar najmniejszego pokrycia wierzchołkowego w zadaym grafie G."
   ]
  },
  {
   "cell_type": "code",
   "execution_count": 12,
   "metadata": {},
   "outputs": [],
   "source": [
    "def vCover(G):\n",
    "    G = buildGraph(G)\n",
    "    lexBFS_result = lexBFS(G)\n",
    "    lexBFS_result.reverse()\n",
    "\n",
    "    # Inicjalizacja zbioru 'I', który będzie przechowywać wierzchołki nie należące do pokrycia.\n",
    "    I = set()\n",
    "\n",
    "    for v in lexBFS_result:\n",
    "        neighbors = G[v].out\n",
    "\n",
    "        if I.isdisjoint(neighbors):\n",
    "            I.add(v)\n",
    "\n",
    "    result = len(G) - len(I) - 1\n",
    "    return result"
   ]
  },
  {
   "cell_type": "code",
   "execution_count": 13,
   "metadata": {},
   "outputs": [
    {
     "name": "stdout",
     "output_type": "stream",
     "text": [
      "graphs-lab5_6/vcover\\AT\n",
      "Test passed\n",
      "graphs-lab5_6/vcover\\clique100\n",
      "Test passed\n",
      "graphs-lab5_6/vcover\\clique20\n",
      "Test passed\n",
      "graphs-lab5_6/vcover\\clique200\n",
      "Test passed\n",
      "graphs-lab5_6/vcover\\clique4\n",
      "Test passed\n",
      "graphs-lab5_6/vcover\\clique5\n",
      "Test passed\n",
      "graphs-lab5_6/vcover\\cycle3\n",
      "Test passed\n",
      "graphs-lab5_6/vcover\\example-fig5\n",
      "Test passed\n",
      "graphs-lab5_6/vcover\\house\n",
      "Test passed\n",
      "graphs-lab5_6/vcover\\interval-rnd10\n",
      "Test passed\n",
      "graphs-lab5_6/vcover\\interval-rnd100\n",
      "Test passed\n",
      "graphs-lab5_6/vcover\\interval-rnd20\n",
      "Test passed\n",
      "graphs-lab5_6/vcover\\interval-rnd30\n",
      "Test passed\n",
      "graphs-lab5_6/vcover\\interval-rnd50\n",
      "Test passed\n",
      "graphs-lab5_6/vcover\\interval-rnd6\n",
      "Test passed\n",
      "graphs-lab5_6/vcover\\interval-rnd8\n",
      "Test passed\n",
      "graphs-lab5_6/vcover\\nonplanar-ex1\n",
      "Test passed\n",
      "graphs-lab5_6/vcover\\path\n",
      "Test passed\n",
      "graphs-lab5_6/vcover\\simple\n",
      "Test passed\n",
      "graphs-lab5_6/vcover\\simple-noninterval1\n",
      "Test passed\n",
      "graphs-lab5_6/vcover\\simple-noninterval2\n",
      "Test passed\n"
     ]
    }
   ],
   "source": [
    "testAllGraphs(\"graphs-lab5_6/vcover\", vCover)"
   ]
  }
 ],
 "metadata": {
  "kernelspec": {
   "display_name": "Python 3",
   "language": "python",
   "name": "python3"
  },
  "language_info": {
   "codemirror_mode": {
    "name": "ipython",
    "version": 3
   },
   "file_extension": ".py",
   "mimetype": "text/x-python",
   "name": "python",
   "nbconvert_exporter": "python",
   "pygments_lexer": "ipython3",
   "version": "3.10.11"
  }
 },
 "nbformat": 4,
 "nbformat_minor": 2
}
