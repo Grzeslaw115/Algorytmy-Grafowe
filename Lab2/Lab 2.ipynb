{
 "cells": [
  {
   "cell_type": "markdown",
   "metadata": {},
   "source": [
    "Dany jest graf skierowany G = (V,E), funkcja c: E -> N dająca wagi krawędziom, oraz wyróżnione wierzchołki s i t. Należy znaleźć maksymalny przepływ w grafie G pomiędzy s i t, tzn. funkcję f: E -> N spełniającą warunki definicji przepływu, zapewniającą największą przepustowość.\n",
    "\n",
    "Do rozwiązania zadania należy wykorzystać algorytm Forda-Fulkersona, porównując dwie strategie znajdowania ścieżek powiększających:\n",
    "\n",
    "- przy użyciu przeszukiwania metodą DFS\n",
    "- przy użyciu przeszukiwania metodą BFS (algorytm Edmondsa-Karpa)"
   ]
  },
  {
   "cell_type": "markdown",
   "metadata": {},
   "source": [
    "Importy niezbędnych bibliotek"
   ]
  },
  {
   "cell_type": "code",
   "execution_count": 11,
   "metadata": {},
   "outputs": [],
   "source": [
    "from dimacs import *\n",
    "from queue import deque\n",
    "import time\n",
    "import os"
   ]
  },
  {
   "cell_type": "code",
   "execution_count": 4,
   "metadata": {},
   "outputs": [],
   "source": [
    "def readSolution(graph):\n",
    "    with open(graph, \"r\") as f:\n",
    "        first_line = f.readline()\n",
    "    return int(first_line.split(\"=\")[1])\n",
    "\n",
    "def compareResults(file_path, graph_name, method, show_results=False):\n",
    "    \"\"\"Compares the result from the file with the result from the given method.\"\"\"\n",
    "    file_solution = readSolution(file_path)\n",
    "    algorithm_solution = method(file_path)\n",
    "\n",
    "    print(\"Graph name:\", graph_name)\n",
    "    if file_solution == algorithm_solution:\n",
    "        print(\"Test passed\")\n",
    "    else:\n",
    "        print(\"Test failed\")\n",
    "        show_results = True\n",
    "\n",
    "    if show_results:\n",
    "        print(\"Solution from file: \", file_solution)\n",
    "        print(\"Solution from algorithm: \", algorithm_solution)\n",
    "\n",
    "def testAllGraphs(directory_path, method):\n",
    "    \"\"\"Tests all graphs in the given directory with the specified method.\"\"\"\n",
    "    for filename in os.listdir(directory_path):\n",
    "        if filename == 'grid100x100':\n",
    "            continue\n",
    "\n",
    "        file_path = os.path.join(directory_path, filename)\n",
    "        if os.path.isfile(file_path):\n",
    "            compareResults(file_path, filename, method)"
   ]
  },
  {
   "cell_type": "markdown",
   "metadata": {},
   "source": [
    "1. Konwersja grafu na strukturę pozwalającą na wygodną implementację algorytmu Forda-Fulkersona. Lista sąsiedztwa zapewnia dostęp do sąsiadów, macierz pozwala na odwoływanie się do pojemności krawędzi tak w grafie oryginalnym, jak i residualnym."
   ]
  },
  {
   "cell_type": "code",
   "execution_count": 5,
   "metadata": {},
   "outputs": [],
   "source": [
    "def convert_graph(graph):\n",
    "    n, graph = loadWeightedGraph(graph)\n",
    "\n",
    "    G = [[] for _ in range(n)]\n",
    "    matrix = [[0 for _ in range(n)] for _ in range(n)]\n",
    "\n",
    "\n",
    "    for (u, v, w) in graph:\n",
    "        u -= 1\n",
    "        v -= 1\n",
    "\n",
    "        G[u].append(v)\n",
    "        G[v].append(u)\n",
    "        matrix[u][v] = w\n",
    "\n",
    "    return G, matrix"
   ]
  },
  {
   "cell_type": "markdown",
   "metadata": {},
   "source": [
    "2.1. Znajdowanie ścieżki powiększającej metodą DFS"
   ]
  },
  {
   "cell_type": "code",
   "execution_count": 6,
   "metadata": {},
   "outputs": [],
   "source": [
    "def find_path_dfs(graph, matrix, s, t, path = []):\n",
    "    if s == t:\n",
    "        if len(path) == 1:\n",
    "            path = [0] + path\n",
    "        return path\n",
    "\n",
    "    for v in graph[s]:\n",
    "        if matrix[s][v] > 0 and v not in path:\n",
    "            new_path = find_path_dfs(graph, matrix, v, t, path + [v])\n",
    "            if new_path is not None:\n",
    "                return new_path\n",
    "\n",
    "    return None"
   ]
  },
  {
   "cell_type": "markdown",
   "metadata": {},
   "source": [
    "2.2. Znajdowanie ścieżki powiększającej metodą BFS"
   ]
  },
  {
   "cell_type": "code",
   "execution_count": 7,
   "metadata": {},
   "outputs": [],
   "source": [
    "def find_path_bfs(graph, matrix, s, t):\n",
    "    q = deque()\n",
    "    q.append(s)\n",
    "\n",
    "    parent = [None for _ in range(len(graph))]\n",
    "    parent[s] = s\n",
    "\n",
    "    while len(q) > 0:\n",
    "        u = q.popleft()\n",
    "\n",
    "        for v in graph[u]:\n",
    "            if matrix[u][v] > 0 and parent[v] == None:\n",
    "                parent[v] = u\n",
    "                q.append(v)\n",
    "\n",
    "    if parent[t] == None:\n",
    "        return None\n",
    "\n",
    "    path = []\n",
    "    u = t\n",
    "    while u != s:\n",
    "        path.append(u)\n",
    "        u = parent[u]\n",
    "\n",
    "    path.append(s)\n",
    "    path.reverse()\n",
    "\n",
    "    return path"
   ]
  },
  {
   "cell_type": "markdown",
   "metadata": {},
   "source": [
    "Algorytm Forda-Fulkersona"
   ]
  },
  {
   "cell_type": "code",
   "execution_count": 8,
   "metadata": {},
   "outputs": [],
   "source": [
    "def ford_fulkerson(graph, path_finder):\n",
    "    graph, matrix = convert_graph(graph)\n",
    "    n = len(graph)\n",
    "    s, t = 0, n -1\n",
    "    flow = 0\n",
    "\n",
    "    path = path_finder(graph, matrix, s, t)\n",
    "    while path:\n",
    "        if len(path) == 1:\n",
    "            path = [0] + path\n",
    "\n",
    "        min_capacity = min(matrix[u][v] for u, v in zip(path, path[1:]))\n",
    "        \n",
    "        flow += min_capacity\n",
    "\n",
    "        for u, v in zip(path, path[1:]):\n",
    "            matrix[u][v] -= min_capacity\n",
    "            matrix[v][u] += min_capacity\n",
    "\n",
    "        path = path_finder(graph, matrix, s, t)\n",
    "    return flow"
   ]
  },
  {
   "cell_type": "code",
   "execution_count": 13,
   "metadata": {},
   "outputs": [
    {
     "data": {
      "text/plain": [
       "4179"
      ]
     },
     "execution_count": 13,
     "metadata": {},
     "output_type": "execute_result"
    }
   ],
   "source": [
    "ford_fulkerson(\"graphs/flow/grid100x100\", find_path_bfs) "
   ]
  }
 ],
 "metadata": {
  "kernelspec": {
   "display_name": "Python 3",
   "language": "python",
   "name": "python3"
  },
  "language_info": {
   "codemirror_mode": {
    "name": "ipython",
    "version": 3
   },
   "file_extension": ".py",
   "mimetype": "text/x-python",
   "name": "python",
   "nbconvert_exporter": "python",
   "pygments_lexer": "ipython3",
   "version": "3.10.11"
  }
 },
 "nbformat": 4,
 "nbformat_minor": 2
}
